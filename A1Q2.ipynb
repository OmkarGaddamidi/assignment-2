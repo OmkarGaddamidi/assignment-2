{
 "cells": [
  {
   "cell_type": "code",
   "execution_count": 1,
   "id": "24ed7bdf",
   "metadata": {},
   "outputs": [
    {
     "name": "stdout",
     "output_type": "stream",
     "text": [
      "input a word to reverse: omkar\n",
      "r\n",
      "\n",
      "a\n",
      "\n",
      "k\n",
      "\n",
      "m\n",
      "\n",
      "o\n",
      "\n"
     ]
    }
   ],
   "source": [
    "word = input(\"input a word to reverse: \")\n",
    "\n",
    "for char in range(len(word) -1,-1,-1):\n",
    "    print(word[char],end=\"\")\n",
    "    print(\"\\n\")\n",
    "    "
   ]
  }
 ],
 "metadata": {
  "kernelspec": {
   "display_name": "Python 3 (ipykernel)",
   "language": "python",
   "name": "python3"
  },
  "language_info": {
   "codemirror_mode": {
    "name": "ipython",
    "version": 3
   },
   "file_extension": ".py",
   "mimetype": "text/x-python",
   "name": "python",
   "nbconvert_exporter": "python",
   "pygments_lexer": "ipython3",
   "version": "3.10.2"
  }
 },
 "nbformat": 4,
 "nbformat_minor": 5
}
